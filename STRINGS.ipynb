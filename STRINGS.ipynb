{
  "nbformat": 4,
  "nbformat_minor": 0,
  "metadata": {
    "colab": {
      "name": "STRINGS",
      "provenance": [],
      "authorship_tag": "ABX9TyNH3jHJC4YFjSmecPyYPr0N",
      "include_colab_link": true
    },
    "kernelspec": {
      "name": "python3",
      "display_name": "Python 3"
    }
  },
  "cells": [
    {
      "cell_type": "markdown",
      "metadata": {
        "id": "view-in-github",
        "colab_type": "text"
      },
      "source": [
        "<a href=\"https://colab.research.google.com/github/alekhaya99/Python-Tutorial/blob/master/STRINGS.ipynb\" target=\"_parent\"><img src=\"https://colab.research.google.com/assets/colab-badge.svg\" alt=\"Open In Colab\"/></a>"
      ]
    },
    {
      "cell_type": "code",
      "metadata": {
        "id": "WJcc5z-vhWcF",
        "colab_type": "code",
        "colab": {
          "base_uri": "https://localhost:8080/",
          "height": 34
        },
        "outputId": "cbf5baec-a317-4f45-de4e-03911b6daa2b"
      },
      "source": [
        "#Returns a string with only first character capitalized and the rest remaning lowercase\n",
        "s='tom'\n",
        "s.capitalize()"
      ],
      "execution_count": 6,
      "outputs": [
        {
          "output_type": "execute_result",
          "data": {
            "text/plain": [
              "'Tom'"
            ]
          },
          "metadata": {
            "tags": []
          },
          "execution_count": 6
        }
      ]
    },
    {
      "cell_type": "code",
      "metadata": {
        "id": "Ek2GIxoHhcMW",
        "colab_type": "code",
        "colab": {
          "base_uri": "https://localhost:8080/",
          "height": 34
        },
        "outputId": "3b012974-2428-4472-ef2e-e06a4189ca5c"
      },
      "source": [
        "#Counts the occurence of a substring from a given index to an end index and if you consider the whole string, then remove the end and start index\n",
        "s='I like tom and jerry'\n",
        "s.count(\"t\",0,9)"
      ],
      "execution_count": 11,
      "outputs": [
        {
          "output_type": "execute_result",
          "data": {
            "text/plain": [
              "1"
            ]
          },
          "metadata": {
            "tags": []
          },
          "execution_count": 11
        }
      ]
    },
    {
      "cell_type": "code",
      "metadata": {
        "id": "qfo9vJNehfzj",
        "colab_type": "code",
        "colab": {
          "base_uri": "https://localhost:8080/",
          "height": 34
        },
        "outputId": "a0775036-9ff6-4487-cfef-e52a9994abbf"
      },
      "source": [
        "#replaces tabs with spaces\n",
        "s='I  love  CODING'\n",
        "s.expandtabs(10)"
      ],
      "execution_count": 12,
      "outputs": [
        {
          "output_type": "execute_result",
          "data": {
            "text/plain": [
              "'I  love  CODING'"
            ]
          },
          "metadata": {
            "tags": []
          },
          "execution_count": 12
        }
      ]
    },
    {
      "cell_type": "code",
      "metadata": {
        "id": "WUYkYoxKj2rj",
        "colab_type": "code",
        "colab": {
          "base_uri": "https://localhost:8080/",
          "height": 34
        },
        "outputId": "dde18afa-f2cf-4d43-9a04-d620b6005a9a"
      },
      "source": [
        "#Returns TRUE if the string ends with the given Substring\n",
        "s='I am Superman'\n",
        "#s.endswith(substring,[start,end])\n",
        "s.endswith('n',0,16)"
      ],
      "execution_count": 13,
      "outputs": [
        {
          "output_type": "execute_result",
          "data": {
            "text/plain": [
              "True"
            ]
          },
          "metadata": {
            "tags": []
          },
          "execution_count": 13
        }
      ]
    },
    {
      "cell_type": "code",
      "metadata": {
        "id": "-AnHAi-WkUlO",
        "colab_type": "code",
        "colab": {
          "base_uri": "https://localhost:8080/",
          "height": 34
        },
        "outputId": "ea6a75c0-936f-4a95-923c-df7e87db4e9a"
      },
      "source": [
        "#Returns index of first presence of a substring\n",
        "s='I love to go to my School'\n",
        "#s.find(substring,[start,end])\n",
        "s.find('love')"
      ],
      "execution_count": 14,
      "outputs": [
        {
          "output_type": "execute_result",
          "data": {
            "text/plain": [
              "2"
            ]
          },
          "metadata": {
            "tags": []
          },
          "execution_count": 14
        }
      ]
    },
    {
      "cell_type": "code",
      "metadata": {
        "id": "n_CljY1klVc5",
        "colab_type": "code",
        "colab": {
          "base_uri": "https://localhost:8080/",
          "height": 34
        },
        "outputId": "c8bf576a-1042-45c5-ae52-5e55c4e3b654"
      },
      "source": [
        "#Returns TRUE if all characters are alphanumeric of String s\n",
        "s='I am 20 years old'\n",
        "s.isalnum()"
      ],
      "execution_count": 15,
      "outputs": [
        {
          "output_type": "execute_result",
          "data": {
            "text/plain": [
              "False"
            ]
          },
          "metadata": {
            "tags": []
          },
          "execution_count": 15
        }
      ]
    },
    {
      "cell_type": "code",
      "metadata": {
        "id": "DsXjL_ivmTL5",
        "colab_type": "code",
        "colab": {
          "base_uri": "https://localhost:8080/",
          "height": 34
        },
        "outputId": "30a69a4e-7492-475e-94ff-df8554a813db"
      },
      "source": [
        "#Returns TRUE if all chars are alphabetic of String s\n",
        "s='I am 20 years old'\n",
        "s.isalpha()"
      ],
      "execution_count": 16,
      "outputs": [
        {
          "output_type": "execute_result",
          "data": {
            "text/plain": [
              "False"
            ]
          },
          "metadata": {
            "tags": []
          },
          "execution_count": 16
        }
      ]
    },
    {
      "cell_type": "code",
      "metadata": {
        "id": "UINRQooXmwjU",
        "colab_type": "code",
        "colab": {
          "base_uri": "https://localhost:8080/",
          "height": 34
        },
        "outputId": "bd63ae05-5e19-4056-cb56-18a2acf8d53a"
      },
      "source": [
        "#Returns TRUE if all chars are digit in a string\n",
        "s='1 2 3 4 5 6 7 8'\n",
        "s.isdigit()"
      ],
      "execution_count": 17,
      "outputs": [
        {
          "output_type": "execute_result",
          "data": {
            "text/plain": [
              "False"
            ]
          },
          "metadata": {
            "tags": []
          },
          "execution_count": 17
        }
      ]
    },
    {
      "cell_type": "code",
      "metadata": {
        "id": "Tl1QGHvYnGG9",
        "colab_type": "code",
        "colab": {
          "base_uri": "https://localhost:8080/",
          "height": 67
        },
        "outputId": "ef37166e-f847-4d0e-b72f-8a6fe90f6b8b"
      },
      "source": [
        "#Splits a string separated by Whitespaces. Returns a list\n",
        "#s.split([separator],[maxsplit])\n",
        "txt = \"apple#banana#cherry#orange\"\n",
        "\n",
        "# setting the maxsplit parameter to 1, will return a list with 2 elements!\n",
        "print( txt.split(\"#\", 1))\n",
        "txt = \"hello, my name is Peter, I am 26 years old\"\n",
        "\n",
        "print(txt.split(\", \"))\n",
        "\n",
        "txt = \"welcome to the jungle\"\n",
        "\n",
        "print(txt.split())"
      ],
      "execution_count": 18,
      "outputs": [
        {
          "output_type": "stream",
          "text": [
            "['apple', 'banana#cherry#orange']\n",
            "['hello', 'my name is Peter', 'I am 26 years old']\n",
            "['welcome', 'to', 'the', 'jungle']\n"
          ],
          "name": "stdout"
        }
      ]
    },
    {
      "cell_type": "code",
      "metadata": {
        "id": "8VFWS_xyouoc",
        "colab_type": "code",
        "colab": {
          "base_uri": "https://localhost:8080/",
          "height": 50
        },
        "outputId": "19bc3541-e5ff-46f2-ed55-34d262171bad"
      },
      "source": [
        "#Joins a string in sequence t\n",
        "myDict = {\"name\": \"John\", \"country\": \"Norway\"}\n",
        "mySeparator = \"TEST\"\n",
        "\n",
        "print(mySeparator.join(myDict))\n",
        "\n",
        "myTuple = (\"John\", \"Peter\", \"Vicky\")\n",
        "\n",
        "print(\"#\".join(myTuple))"
      ],
      "execution_count": 19,
      "outputs": [
        {
          "output_type": "stream",
          "text": [
            "nameTESTcountry\n",
            "John#Peter#Vicky\n"
          ],
          "name": "stdout"
        }
      ]
    },
    {
      "cell_type": "code",
      "metadata": {
        "id": "tojj_YKRpWrp",
        "colab_type": "code",
        "colab": {
          "base_uri": "https://localhost:8080/",
          "height": 34
        },
        "outputId": "84fe11f7-1f0c-4cf3-e55a-e6af2e9b965b"
      },
      "source": [
        "#Converts a string to lowercase\n",
        "s='A B C D E F G'\n",
        "s.lower()"
      ],
      "execution_count": 20,
      "outputs": [
        {
          "output_type": "execute_result",
          "data": {
            "text/plain": [
              "'a b c d e f g'"
            ]
          },
          "metadata": {
            "tags": []
          },
          "execution_count": 20
        }
      ]
    },
    {
      "cell_type": "code",
      "metadata": {
        "id": "8dfG2GGLp0F4",
        "colab_type": "code",
        "colab": {
          "base_uri": "https://localhost:8080/",
          "height": 34
        },
        "outputId": "18a3d09c-50c5-4b9b-bb86-32db5af3e862"
      },
      "source": [
        "#Replaces old substring with a new substring\n",
        "#s.replace(old,new[maxreplace])\n",
        "s='I love engineering'\n",
        "s.replace(\"engineering\",\"technology\")"
      ],
      "execution_count": 21,
      "outputs": [
        {
          "output_type": "execute_result",
          "data": {
            "text/plain": [
              "'I love technology'"
            ]
          },
          "metadata": {
            "tags": []
          },
          "execution_count": 21
        }
      ]
    },
    {
      "cell_type": "code",
      "metadata": {
        "id": "5qDPP14pqsLt",
        "colab_type": "code",
        "colab": {
          "base_uri": "https://localhost:8080/",
          "height": 34
        },
        "outputId": "b44b6c4c-4ad3-4431-bdd6-2ce590110841"
      },
      "source": [
        "#Returns TRUE if the srtring starts with a substring\n",
        "#s.startswith(substring,[start,end])\n",
        "s=\"I am IRONMAN\"\n",
        "s.startswith('I')"
      ],
      "execution_count": 22,
      "outputs": [
        {
          "output_type": "execute_result",
          "data": {
            "text/plain": [
              "True"
            ]
          },
          "metadata": {
            "tags": []
          },
          "execution_count": 22
        }
      ]
    },
    {
      "cell_type": "code",
      "metadata": {
        "id": "zdWEz-VQrj70",
        "colab_type": "code",
        "colab": {
          "base_uri": "https://localhost:8080/",
          "height": 34
        },
        "outputId": "86af6c2f-3f8e-4794-c4aa-b6a842f91f7e"
      },
      "source": [
        "#Returns a copy of the swapped case in a string\n",
        "txt = \"Hello My Name Is PETER\"\n",
        "\n",
        "x = txt.swapcase()\n",
        "\n",
        "print(x)"
      ],
      "execution_count": 23,
      "outputs": [
        {
          "output_type": "stream",
          "text": [
            "hELLO mY nAME iS peter\n"
          ],
          "name": "stdout"
        }
      ]
    },
    {
      "cell_type": "code",
      "metadata": {
        "id": "TPqTKTGor_Ip",
        "colab_type": "code",
        "colab": {
          "base_uri": "https://localhost:8080/",
          "height": 34
        },
        "outputId": "bbd513a3-3383-4be7-9bde-2638b8fc9ea9"
      },
      "source": [
        "#Removes whitespace or optional character\n",
        "\n",
        "txt = \",,,,,rrttgg.....banana....rrr\"\n",
        "\n",
        "x = txt.strip(\",.grt\")\n",
        "\n",
        "print(x)"
      ],
      "execution_count": 25,
      "outputs": [
        {
          "output_type": "stream",
          "text": [
            "anana\n"
          ],
          "name": "stdout"
        }
      ]
    },
    {
      "cell_type": "code",
      "metadata": {
        "id": "YL4AYO8HskfP",
        "colab_type": "code",
        "colab": {
          "base_uri": "https://localhost:8080/",
          "height": 34
        },
        "outputId": "924ec8c0-75e0-4769-8e10-d2f6126fd7b2"
      },
      "source": [
        "#Returns a copy of the string with leading characters removed\n",
        "s=\"I am Captain America\"\n",
        "s.lstrip('I am')"
      ],
      "execution_count": 28,
      "outputs": [
        {
          "output_type": "execute_result",
          "data": {
            "text/plain": [
              "'Captain America'"
            ]
          },
          "metadata": {
            "tags": []
          },
          "execution_count": 28
        }
      ]
    },
    {
      "cell_type": "code",
      "metadata": {
        "id": "UhaSQz7WtFqr",
        "colab_type": "code",
        "colab": {}
      },
      "source": [
        ""
      ],
      "execution_count": null,
      "outputs": []
    }
  ]
}